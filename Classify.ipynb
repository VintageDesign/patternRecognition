{
 "cells": [
  {
   "cell_type": "code",
   "execution_count": 7,
   "metadata": {},
   "outputs": [
    {
     "name": "stderr",
     "output_type": "stream",
     "text": [
      "┌ Info: Precompiling GenerateManifold [top-level]\n",
      "└ @ Base loading.jl:1192\n",
      "WARNING: Method definition _bcs1(Any, Any) in module Broadcast at broadcast.jl:439 overwritten in module ImageFiltering at /home/riley/.julia/packages/ImageFiltering/IEsgU/src/ImageFiltering.jl:28.\n"
     ]
    }
   ],
   "source": [
    "#=\n",
    "     Author: Riley Kopp\n",
    "Description: This file generates plots for the manifold in 3 dimensions\n",
    "             and the Energy Recovery as k approaches the n where n is\n",
    "             the number of cols in the imageVector\n",
    "=#\n",
    "# Needed to load add the pwd to Julias defined load path or else it looks in Global Packages\n",
    "push!(LOAD_PATH, pwd())\n",
    "using Revise, GenerateManifold, PlotManifold, PlotER, Select"
   ]
  },
  {
   "cell_type": "code",
   "execution_count": 8,
   "metadata": {
    "scrolled": true
   },
   "outputs": [
    {
     "name": "stdout",
     "output_type": "stream",
     "text": [
      "Test image ulr:/home/riley/git/patternRecognition/TestImages/Light232/UnProcessed/img_49.png\n"
     ]
    }
   ],
   "source": [
    "testImagePath = Select.selectImage()\n",
    "println(\"Test image ulr:\" * testImagePath)"
   ]
  },
  {
   "cell_type": "code",
   "execution_count": 11,
   "metadata": {
    "scrolled": true
   },
   "outputs": [
    {
     "ename": "OutOfMemoryError",
     "evalue": "OutOfMemoryError()",
     "output_type": "error",
     "traceback": [
      "OutOfMemoryError()",
      "",
      "Stacktrace:",
      " [1] Type at ./boot.jl:396 [inlined]",
      " [2] Type at ./boot.jl:404 [inlined]",
      " [3] similar at ./abstractarray.jl:618 [inlined]",
      " [4] similar at ./abstractarray.jl:617 [inlined]",
      " [5] _array_for at ./array.jl:611 [inlined]",
      " [6] collect(::Base.Generator{Base.Iterators.ProductIterator{Tuple{UnitRange{Int32},UnitRange{Int32}}},getfield(Base, Symbol(\"##69#70\")){ColorTypes.Gray{Float16},NTuple{26880,Array{ColorTypes.Gray{Float16},1}}}}) at ./array.jl:624",
      " [7] hcat(::Array{ColorTypes.Gray{Float16},1}, ::Array{ColorTypes.Gray{Float16},1}, ::Array{ColorTypes.Gray{Float16},1}, ::Vararg{Array{ColorTypes.Gray{Float16},1},N} where N) at ./array.jl:1528",
      " [8] generateManifold() at /home/riley/git/patternRecognition/GenerateManifold.jl:43",
      " [9] top-level scope at In[11]:1"
     ]
    }
   ],
   "source": [
    "U, sigma, imageMatrix, mean, imageMatrixMeanCentered, objectTypes = GenerateManifold.generateManifold()"
   ]
  },
  {
   "cell_type": "code",
   "execution_count": null,
   "metadata": {},
   "outputs": [],
   "source": []
  }
 ],
 "metadata": {
  "kernelspec": {
   "display_name": "Julia 1.0.4",
   "language": "julia",
   "name": "julia-1.0"
  },
  "language_info": {
   "file_extension": ".jl",
   "mimetype": "application/julia",
   "name": "julia",
   "version": "1.0.4"
  }
 },
 "nbformat": 4,
 "nbformat_minor": 2
}
