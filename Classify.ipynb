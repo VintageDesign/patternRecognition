{
 "cells": [
  {
   "cell_type": "code",
   "execution_count": 1,
   "metadata": {
    "scrolled": true
   },
   "outputs": [
    {
     "name": "stderr",
     "output_type": "stream",
     "text": [
      "┌ Info: Recompiling stale cache file /home/riley/.julia/compiled/v1.0/PlotER.ji for PlotER [top-level]\n",
      "└ @ Base loading.jl:1190\n"
     ]
    }
   ],
   "source": [
    "#=\n",
    "     Author: Riley Kopp\n",
    "Description: This file generates plots for the manifold in 3 dimensions\n",
    "             and the Energy Recovery as k approaches the n where n is\n",
    "             the number of cols in the imageVector\n",
    "=#\n",
    "# Needed to load add the pwd to Julias defined load path or else it looks in Global Packages\n",
    "push!(LOAD_PATH, pwd())\n",
    "using Revise, GenerateManifold, PlotManifold, PlotER"
   ]
  },
  {
   "cell_type": "code",
   "execution_count": 2,
   "metadata": {
    "scrolled": true
   },
   "outputs": [
    {
     "name": "stderr",
     "output_type": "stream",
     "text": [
      "┌ Warning: one(ColorTypes.Gray{Float64}) will soon switch to returning 1; you might need to switch to `oneunit`\n",
      "│   caller = eigtype at eigen.jl:185 [inlined]\n",
      "└ @ Core /buildworker/worker/package_linux32/build/usr/share/julia/stdlib/v1.0/LinearAlgebra/src/eigen.jl:185\n"
     ]
    },
    {
     "data": {
      "text/plain": [
       "([1.50529e-16 -2.02754e-15 … -4.02136e-12 7.26814e-12; -5.03282e-17 1.68017e-15 … -1.93864e-13 -4.7127e-13; … ; 0.0 0.0 … 0.0 0.0; 0.0 0.0 … 0.0 0.0], [3.7572e5, 363.35, 285.959, 276.652, 240.948, 205.205, 176.853, 172.885, 159.588, 149.769  …  0.0626541, 0.0622367, 0.0611416, 0.0604503, 0.0600112, 0.0592421, 0.0571095, 0.0567546, 0.0544833, 0.05304], ColorTypes.Gray{Float64}[Gray{Float64}(0.0) Gray{Float64}(0.0) … Gray{Float64}(0.0) Gray{Float64}(0.0); Gray{Float64}(0.0) Gray{Float64}(0.0) … Gray{Float64}(0.0) Gray{Float64}(0.0); … ; Gray{Float64}(0.0) Gray{Float64}(0.0) … Gray{Float64}(0.0) Gray{Float64}(0.0); Gray{Float64}(0.0) Gray{Float64}(0.0) … Gray{Float64}(0.0) Gray{Float64}(0.0)], [0.0, 0.0, 0.0, 0.0, 0.0, 0.0, 0.0, 0.0, 0.0, 0.0  …  0.0, 0.0, 0.0, 0.0, 0.0, 0.0, 0.0, 0.0, 0.0, 0.0], ColorTypes.Gray{Float64}[Gray{Float64}(0.0) Gray{Float64}(0.0) … Gray{Float64}(0.0) Gray{Float64}(0.0); Gray{Float64}(0.0) Gray{Float64}(0.0) … Gray{Float64}(0.0) Gray{Float64}(0.0); … ; Gray{Float64}(0.0) Gray{Float64}(0.0) … Gray{Float64}(0.0) Gray{Float64}(0.0); Gray{Float64}(0.0) Gray{Float64}(0.0) … Gray{Float64}(0.0) Gray{Float64}(0.0)], names)"
      ]
     },
     "execution_count": 2,
     "metadata": {},
     "output_type": "execute_result"
    }
   ],
   "source": [
    "U, sigma,imageMatrix, mean, imageMatrixMeanCentered, objectTypes = GenerateManifold.generateManifold()"
   ]
  },
  {
   "cell_type": "code",
   "execution_count": null,
   "metadata": {
    "scrolled": true
   },
   "outputs": [],
   "source": [
    "PlotER.plotER(imageMatrixMeanCentered, sigma)\n"
   ]
  },
  {
   "cell_type": "code",
   "execution_count": null,
   "metadata": {},
   "outputs": [],
   "source": []
  }
 ],
 "metadata": {
  "kernelspec": {
   "display_name": "Julia 1.0.4",
   "language": "julia",
   "name": "julia-1.0"
  },
  "language_info": {
   "file_extension": ".jl",
   "mimetype": "application/julia",
   "name": "julia",
   "version": "1.0.4"
  }
 },
 "nbformat": 4,
 "nbformat_minor": 2
}
