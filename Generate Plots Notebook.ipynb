{
 "cells": [
  {
   "cell_type": "code",
   "execution_count": 1,
   "metadata": {},
   "outputs": [],
   "source": [
    "#=\n",
    "     Author: Riley Kopp\n",
    "Description: This file generates plots for the manifold in 3 dimensions\n",
    "             and the Energy Recovery as k approaches the n where n is\n",
    "             the number of cols in the imageVector\n",
    "=#\n",
    "push!(LOAD_PATH, pwd())\n",
    "using Revise, SingleManifold, PlotManifold, PlotER"
   ]
  },
  {
   "cell_type": "code",
   "execution_count": 2,
   "metadata": {
    "scrolled": false
   },
   "outputs": [
    {
     "name": "stdout",
     "output_type": "stream",
     "text": [
      "Generating Plots...\n",
      "Options are: Boat, Cabinet, Cup, Flashlight, Car, Chair, Handle, Hose Reel, iBook, 2004 iMac, 1998 iMac, Keyboard, LED, Light1, Light2, Mug, Scooter, Spray Bottle, Stapler, Trash can\n",
      "Please select the image in which to classify:\n",
      "stdin> Boat\n",
      "Generating File Names\n",
      "File Names Generated...\n",
      "\n",
      "Loading images...\n"
     ]
    },
    {
     "name": "stderr",
     "output_type": "stream",
     "text": [
      "\u001b[32mProgress: 100%|█████████████████████████████████████████| Time: 0:00:03\u001b[39m\n"
     ]
    },
    {
     "name": "stdout",
     "output_type": "stream",
     "text": [
      "Images Loaded...\n",
      "\n",
      "Getting Image Mean\n",
      "Image mean applied...\n",
      "\n",
      "Calculating SVD\n"
     ]
    },
    {
     "name": "stderr",
     "output_type": "stream",
     "text": [
      "┌ Warning: one(ColorTypes.Gray{Float64}) will soon switch to returning 1; you might need to switch to `oneunit`\n",
      "│   caller = eigtype at eigen.jl:185 [inlined]\n",
      "└ @ Core /buildworker/worker/package_linux32/build/usr/share/julia/stdlib/v1.0/LinearAlgebra/src/eigen.jl:185\n"
     ]
    },
    {
     "name": "stdout",
     "output_type": "stream",
     "text": [
      "SVD Calculated...\n",
      "\n"
     ]
    }
   ],
   "source": [
    "println(\"Generating Plots...\")\n",
    "println(\"Options are: Boat, Cabinet, Cup, Flashlight, Car, Chair, Handle, Hose Reel, iBook, 2004 iMac, 1998 iMac, Keyboard, LED, Light1, Light2, Mug, Scooter, Spray Bottle, Stapler, Trash can\")\n",
    "println(\"Please select the image in which to classify:\" )\n",
    "\n",
    "item = readline()\n",
    "U, sigma, imageVector, meanA, X = generateSingleManifold(item);"
   ]
  },
  {
   "cell_type": "markdown",
   "metadata": {},
   "source": [
    "# Displays the first 3 dimensions of the images"
   ]
  },
  {
   "cell_type": "code",
   "execution_count": 3,
   "metadata": {},
   "outputs": [
    {
     "name": "stdout",
     "output_type": "stream",
     "text": [
      "128×16384 Array{Gray{Float64},2} with eltype ColorTypes.Gray{Float64}\n"
     ]
    },
    {
     "data": {
      "image/svg+xml": [
       "<?xml version=\"1.0\" encoding=\"utf-8\"?>\n",
       "<svg xmlns=\"http://www.w3.org/2000/svg\" xmlns:xlink=\"http://www.w3.org/1999/xlink\" width=\"600\" height=\"400\" viewBox=\"0 0 2400 1600\">\n",
       "<defs>\n",
       "  <clipPath id=\"clip5800\">\n",
       "    <rect x=\"0\" y=\"0\" width=\"2400\" height=\"1600\"/>\n",
       "  </clipPath>\n",
       "</defs>\n",
       "<path clip-path=\"url(#clip5800)\" d=\"\n",
       "M0 1600 L2400 1600 L2400 8.88178e-14 L0 8.88178e-14  Z\n",
       "  \" fill=\"#ffffff\" fill-rule=\"evenodd\" fill-opacity=\"1\"/>\n",
       "<defs>\n",
       "  <clipPath id=\"clip5801\">\n",
       "    <rect x=\"480\" y=\"0\" width=\"1681\" height=\"1600\"/>\n",
       "  </clipPath>\n",
       "</defs>\n",
       "<path clip-path=\"url(#clip5800)\" d=\"\n",
       "M540.576 1487.47 L1980.81 1487.47 L1980.81 47.2441 L540.576 47.2441  Z\n",
       "  \" fill=\"#ffffff\" fill-rule=\"evenodd\" fill-opacity=\"1\"/>\n",
       "<defs>\n",
       "  <clipPath id=\"clip5802\">\n",
       "    <rect x=\"540\" y=\"47\" width=\"1441\" height=\"1441\"/>\n",
       "  </clipPath>\n",
       "</defs>\n",
       "<polyline clip-path=\"url(#clip5800)\" style=\"stroke:#cccccc; stroke-width:2; stroke-opacity:0.1; fill:none\" points=\"\n",
       "  699.009,1417.16 1226.17,1161.92 \n",
       "  \"/>\n",
       "<polyline clip-path=\"url(#clip5800)\" style=\"stroke:#cccccc; stroke-width:2; stroke-opacity:0.1; fill:none\" points=\"\n",
       "  1226.17,1161.92 1226.17,62.0067 \n",
       "  \"/>\n",
       "<polyline clip-path=\"url(#clip5800)\" style=\"stroke:#ededed; stroke-width:2; stroke-opacity:0.1; fill:none\" points=\"\n",
       "  916.531,1437.43 1443.69,1182.19 \n",
       "  \"/>\n",
       "<polyline clip-path=\"url(#clip5800)\" style=\"stroke:#ededed; stroke-width:2; stroke-opacity:0.1; fill:none\" points=\"\n",
       "  1443.69,1182.19 1443.69,82.2751 \n",
       "  \"/>\n",
       "<polyline clip-path=\"url(#clip5800)\" style=\"stroke:#cccccc; stroke-width:2; stroke-opacity:0.1; fill:none\" points=\"\n",
       "  1134.05,1457.7 1661.21,1202.46 \n",
       "  \"/>\n",
       "<polyline clip-path=\"url(#clip5800)\" style=\"stroke:#cccccc; stroke-width:2; stroke-opacity:0.1; fill:none\" points=\"\n",
       "  1661.21,1202.46 1661.21,102.544 \n",
       "  \"/>\n",
       "<polyline clip-path=\"url(#clip5800)\" style=\"stroke:#ededed; stroke-width:2; stroke-opacity:0.1; fill:none\" points=\"\n",
       "  1351.58,1477.96 1878.74,1222.73 \n",
       "  \"/>\n",
       "<polyline clip-path=\"url(#clip5800)\" style=\"stroke:#ededed; stroke-width:2; stroke-opacity:0.1; fill:none\" points=\"\n",
       "  1878.74,1222.73 1878.74,122.812 \n",
       "  \"/>\n",
       "<polyline clip-path=\"url(#clip5800)\" style=\"stroke:#cccccc; stroke-width:2; stroke-opacity:0.1; fill:none\" points=\"\n",
       "  615.66,1366.04 1528.73,1451.12 \n",
       "  \"/>\n",
       "<polyline clip-path=\"url(#clip5800)\" style=\"stroke:#cccccc; stroke-width:2; stroke-opacity:0.1; fill:none\" points=\"\n",
       "  615.66,1366.04 615.66,266.127 \n",
       "  \"/>\n",
       "<polyline clip-path=\"url(#clip5800)\" style=\"stroke:#ededed; stroke-width:2; stroke-opacity:0.1; fill:none\" points=\"\n",
       "  709.767,1320.48 1622.84,1405.56 \n",
       "  \"/>\n",
       "<polyline clip-path=\"url(#clip5800)\" style=\"stroke:#ededed; stroke-width:2; stroke-opacity:0.1; fill:none\" points=\"\n",
       "  709.767,1320.48 709.767,220.563 \n",
       "  \"/>\n",
       "<polyline clip-path=\"url(#clip5800)\" style=\"stroke:#cccccc; stroke-width:2; stroke-opacity:0.1; fill:none\" points=\"\n",
       "  803.873,1274.91 1716.94,1359.99 \n",
       "  \"/>\n",
       "<polyline clip-path=\"url(#clip5800)\" style=\"stroke:#cccccc; stroke-width:2; stroke-opacity:0.1; fill:none\" points=\"\n",
       "  803.873,1274.91 803.873,174.999 \n",
       "  \"/>\n",
       "<polyline clip-path=\"url(#clip5800)\" style=\"stroke:#ededed; stroke-width:2; stroke-opacity:0.1; fill:none\" points=\"\n",
       "  897.98,1229.35 1811.05,1314.43 \n",
       "  \"/>\n",
       "<polyline clip-path=\"url(#clip5800)\" style=\"stroke:#ededed; stroke-width:2; stroke-opacity:0.1; fill:none\" points=\"\n",
       "  897.98,1229.35 897.98,129.436 \n",
       "  \"/>\n",
       "<polyline clip-path=\"url(#clip5800)\" style=\"stroke:#cccccc; stroke-width:2; stroke-opacity:0.1; fill:none\" points=\"\n",
       "  992.086,1183.79 1905.16,1268.87 \n",
       "  \"/>\n",
       "<polyline clip-path=\"url(#clip5800)\" style=\"stroke:#cccccc; stroke-width:2; stroke-opacity:0.1; fill:none\" points=\"\n",
       "  992.086,1183.79 992.086,83.872 \n",
       "  \"/>\n",
       "<polyline clip-path=\"url(#clip5800)\" style=\"stroke:#cccccc; stroke-width:2; stroke-opacity:0.1; fill:none\" points=\"\n",
       "  540.576,1402.4 1067.74,1147.16 \n",
       "  \"/>\n",
       "<polyline clip-path=\"url(#clip5800)\" style=\"stroke:#cccccc; stroke-width:2; stroke-opacity:0.1; fill:none\" points=\"\n",
       "  1067.74,1147.16 1980.81,1232.24 \n",
       "  \"/>\n",
       "<polyline clip-path=\"url(#clip5800)\" style=\"stroke:#ededed; stroke-width:2; stroke-opacity:0.1; fill:none\" points=\"\n",
       "  540.576,1219.08 1067.74,963.84 \n",
       "  \"/>\n",
       "<polyline clip-path=\"url(#clip5800)\" style=\"stroke:#ededed; stroke-width:2; stroke-opacity:0.1; fill:none\" points=\"\n",
       "  1067.74,963.84 1980.81,1048.92 \n",
       "  \"/>\n",
       "<polyline clip-path=\"url(#clip5800)\" style=\"stroke:#cccccc; stroke-width:2; stroke-opacity:0.1; fill:none\" points=\"\n",
       "  540.576,1035.76 1067.74,780.521 \n",
       "  \"/>\n",
       "<polyline clip-path=\"url(#clip5800)\" style=\"stroke:#cccccc; stroke-width:2; stroke-opacity:0.1; fill:none\" points=\"\n",
       "  1067.74,780.521 1980.81,865.6 \n",
       "  \"/>\n",
       "<polyline clip-path=\"url(#clip5800)\" style=\"stroke:#ededed; stroke-width:2; stroke-opacity:0.1; fill:none\" points=\"\n",
       "  540.576,852.438 1067.74,597.202 \n",
       "  \"/>\n",
       "<polyline clip-path=\"url(#clip5800)\" style=\"stroke:#ededed; stroke-width:2; stroke-opacity:0.1; fill:none\" points=\"\n",
       "  1067.74,597.202 1980.81,682.281 \n",
       "  \"/>\n",
       "<polyline clip-path=\"url(#clip5800)\" style=\"stroke:#cccccc; stroke-width:2; stroke-opacity:0.1; fill:none\" points=\"\n",
       "  540.576,669.119 1067.74,413.883 \n",
       "  \"/>\n",
       "<polyline clip-path=\"url(#clip5800)\" style=\"stroke:#cccccc; stroke-width:2; stroke-opacity:0.1; fill:none\" points=\"\n",
       "  1067.74,413.883 1980.81,498.961 \n",
       "  \"/>\n",
       "<polyline clip-path=\"url(#clip5800)\" style=\"stroke:#ededed; stroke-width:2; stroke-opacity:0.1; fill:none\" points=\"\n",
       "  540.576,485.8 1067.74,230.563 \n",
       "  \"/>\n",
       "<polyline clip-path=\"url(#clip5800)\" style=\"stroke:#ededed; stroke-width:2; stroke-opacity:0.1; fill:none\" points=\"\n",
       "  1067.74,230.563 1980.81,315.642 \n",
       "  \"/>\n",
       "<polyline clip-path=\"url(#clip5800)\" style=\"stroke:#cccccc; stroke-width:2; stroke-opacity:0.1; fill:none\" points=\"\n",
       "  540.576,302.48 1067.74,47.2441 \n",
       "  \"/>\n",
       "<polyline clip-path=\"url(#clip5800)\" style=\"stroke:#cccccc; stroke-width:2; stroke-opacity:0.1; fill:none\" points=\"\n",
       "  1067.74,47.2441 1980.81,132.323 \n",
       "  \"/>\n",
       "<polyline clip-path=\"url(#clip5800)\" style=\"stroke:#000000; stroke-width:4; stroke-opacity:1; fill:none\" points=\"\n",
       "  448.053,1264.23 472.05,1252.61 \n",
       "  \"/>\n",
       "<polyline clip-path=\"url(#clip5800)\" style=\"stroke:#000000; stroke-width:4; stroke-opacity:1; fill:none\" points=\"\n",
       "  485.382,1232.99 488.048,1230.05 492.048,1223.18 492.048,1257.74 \n",
       "  \"/>\n",
       "<polyline clip-path=\"url(#clip5800)\" style=\"stroke:#000000; stroke-width:4; stroke-opacity:1; fill:none\" points=\"\n",
       "  516.045,1211.56 512.046,1215.14 509.379,1221.37 508.046,1230.25 508.046,1235.18 509.379,1242.77 512.046,1246.41 516.045,1246.12 518.711,1244.83 522.711,1241.25 \n",
       "  525.377,1235.02 526.711,1226.15 526.711,1221.21 525.377,1213.63 522.711,1209.98 518.711,1210.27 516.045,1211.56 \n",
       "  \"/>\n",
       "<polyline clip-path=\"url(#clip5800)\" style=\"stroke:#000000; stroke-width:4; stroke-opacity:1; fill:none\" points=\"\n",
       "  516.045,844.922 512.046,848.505 509.379,854.733 508.046,863.607 508.046,868.544 509.379,876.127 512.046,879.773 516.045,879.482 518.711,878.191 522.711,874.609 \n",
       "  525.377,868.381 526.711,859.507 526.711,854.57 525.377,846.987 522.711,843.341 518.711,843.631 516.045,844.922 \n",
       "  \"/>\n",
       "<polyline clip-path=\"url(#clip5800)\" style=\"stroke:#000000; stroke-width:4; stroke-opacity:1; fill:none\" points=\"\n",
       "  485.382,499.713 488.048,496.776 492.048,489.903 492.048,524.463 \n",
       "  \"/>\n",
       "<polyline clip-path=\"url(#clip5800)\" style=\"stroke:#000000; stroke-width:4; stroke-opacity:1; fill:none\" points=\"\n",
       "  516.045,478.284 512.046,481.866 509.379,488.094 508.046,496.968 508.046,501.905 509.379,509.489 512.046,513.135 516.045,512.844 518.711,511.553 522.711,507.971 \n",
       "  525.377,501.743 526.711,492.869 526.711,487.931 525.377,480.348 522.711,476.702 518.711,476.993 516.045,478.284 \n",
       "  \"/>\n",
       "<polyline clip-path=\"url(#clip5800)\" style=\"stroke:#000000; stroke-width:4; stroke-opacity:1; fill:none\" points=\"\n",
       "  540.576,1402.4 540.576,1402.4 535.304,1404.95 540.576,1402.4 540.576,1219.08 530.033,1224.18 540.576,1219.08 540.576,1035.76 535.304,1038.31 540.576,1035.76 \n",
       "  540.576,852.438 530.033,857.543 540.576,852.438 540.576,669.119 535.304,671.671 540.576,669.119 540.576,485.8 530.033,490.904 540.576,485.8 540.576,302.48 \n",
       "  535.304,305.033 540.576,302.48 \n",
       "  \"/>\n",
       "<polyline clip-path=\"url(#clip5800)\" style=\"stroke:#000000; stroke-width:4; stroke-opacity:1; fill:none\" points=\"\n",
       "  849.425,1468.53 878.793,1471.27 \n",
       "  \"/>\n",
       "<polyline clip-path=\"url(#clip5800)\" style=\"stroke:#000000; stroke-width:4; stroke-opacity:1; fill:none\" points=\"\n",
       "  893.477,1452.89 911.424,1454.56 901.635,1466.82 906.53,1467.27 909.793,1469.22 911.424,1471.02 913.056,1476.11 913.056,1479.4 911.424,1484.18 908.161,1487.17 \n",
       "  903.267,1488.36 898.372,1487.91 893.477,1485.8 891.846,1484.01 890.214,1480.56 \n",
       "  \"/>\n",
       "<polyline clip-path=\"url(#clip5800)\" style=\"stroke:#000000; stroke-width:4; stroke-opacity:1; fill:none\" points=\"\n",
       "  932.634,1456.54 927.74,1457.73 924.477,1462.36 922.845,1470.44 922.845,1475.37 924.477,1483.76 927.74,1489 932.634,1491.1 935.898,1491.4 940.792,1490.21 \n",
       "  944.055,1485.58 945.687,1477.5 945.687,1472.57 944.055,1464.19 940.792,1458.94 935.898,1456.84 932.634,1456.54 \n",
       "  \"/>\n",
       "<polyline clip-path=\"url(#clip5800)\" style=\"stroke:#000000; stroke-width:4; stroke-opacity:1; fill:none\" points=\"\n",
       "  1284.47,1509.07 1313.84,1511.81 \n",
       "  \"/>\n",
       "<polyline clip-path=\"url(#clip5800)\" style=\"stroke:#000000; stroke-width:4; stroke-opacity:1; fill:none\" points=\"\n",
       "  1326.89,1501.5 1326.89,1499.86 1328.52,1496.72 1330.15,1495.22 1333.42,1493.88 1339.94,1494.49 1343.21,1496.44 1344.84,1498.24 1346.47,1501.68 1346.47,1504.97 \n",
       "  1344.84,1508.11 1341.57,1512.75 1325.26,1527.68 1348.1,1529.81 \n",
       "  \"/>\n",
       "<polyline clip-path=\"url(#clip5800)\" style=\"stroke:#000000; stroke-width:4; stroke-opacity:1; fill:none\" points=\"\n",
       "  1377.47,1497.99 1361.15,1496.47 1359.52,1511.13 1361.15,1509.63 1366.05,1508.44 1370.94,1508.9 1375.84,1511 1379.1,1514.6 1380.73,1519.69 1380.73,1522.98 \n",
       "  1379.1,1527.76 1375.84,1530.75 1370.94,1531.94 1366.05,1531.48 1361.15,1529.38 1359.52,1527.58 1357.89,1524.14 \n",
       "  \"/>\n",
       "<polyline clip-path=\"url(#clip5800)\" style=\"stroke:#000000; stroke-width:4; stroke-opacity:1; fill:none\" points=\"\n",
       "  540.576,1402.4 699.009,1417.16 693.737,1419.71 699.009,1417.16 916.531,1437.43 905.988,1442.53 916.531,1437.43 1134.05,1457.7 1128.78,1460.25 1134.05,1457.7 \n",
       "  1351.58,1477.96 1341.03,1483.07 1351.58,1477.96 1453.65,1487.47 \n",
       "  \"/>\n",
       "<polyline clip-path=\"url(#clip5800)\" style=\"stroke:#000000; stroke-width:4; stroke-opacity:1; fill:none\" points=\"\n",
       "  1536.13,1496.15 1560.13,1484.53 \n",
       "  \"/>\n",
       "<polyline clip-path=\"url(#clip5800)\" style=\"stroke:#000000; stroke-width:4; stroke-opacity:1; fill:none\" points=\"\n",
       "  1573.46,1464.91 1576.13,1461.98 1580.13,1455.1 1580.13,1489.66 \n",
       "  \"/>\n",
       "<polyline clip-path=\"url(#clip5800)\" style=\"stroke:#000000; stroke-width:4; stroke-opacity:1; fill:none\" points=\"\n",
       "  1604.13,1443.48 1600.13,1447.07 1597.46,1453.29 1596.13,1462.17 1596.13,1467.11 1597.46,1474.69 1600.13,1478.33 1604.13,1478.04 1606.79,1476.75 1610.79,1473.17 \n",
       "  1613.46,1466.94 1614.79,1458.07 1614.79,1453.13 1613.46,1445.55 1610.79,1441.9 1606.79,1442.19 1604.13,1443.48 \n",
       "  \"/>\n",
       "<polyline clip-path=\"url(#clip5800)\" style=\"stroke:#000000; stroke-width:4; stroke-opacity:1; fill:none\" points=\"\n",
       "  1761.68,1367.2 1757.68,1370.79 1755.01,1377.01 1753.68,1385.89 1753.68,1390.82 1755.01,1398.41 1757.68,1402.05 1761.68,1401.76 1764.34,1400.47 1768.34,1396.89 \n",
       "  1771.01,1390.66 1772.34,1381.79 1772.34,1376.85 1771.01,1369.27 1768.34,1365.62 1764.34,1365.91 1761.68,1367.2 \n",
       "  \"/>\n",
       "<polyline clip-path=\"url(#clip5800)\" style=\"stroke:#000000; stroke-width:4; stroke-opacity:1; fill:none\" points=\"\n",
       "  1932.56,1291.05 1935.22,1288.11 1939.22,1281.24 1939.22,1315.8 \n",
       "  \"/>\n",
       "<polyline clip-path=\"url(#clip5800)\" style=\"stroke:#000000; stroke-width:4; stroke-opacity:1; fill:none\" points=\"\n",
       "  1963.22,1269.62 1959.22,1273.2 1956.56,1279.43 1955.22,1288.3 1955.22,1293.24 1956.56,1300.83 1959.22,1304.47 1963.22,1304.18 1965.89,1302.89 1969.89,1299.31 \n",
       "  1972.55,1293.08 1973.89,1284.21 1973.89,1279.27 1972.55,1271.68 1969.89,1268.04 1965.89,1268.33 1963.22,1269.62 \n",
       "  \"/>\n",
       "<polyline clip-path=\"url(#clip5800)\" style=\"stroke:#000000; stroke-width:4; stroke-opacity:1; fill:none\" points=\"\n",
       "  1453.65,1487.47 1528.73,1451.12 1546.99,1452.82 1528.73,1451.12 1622.84,1405.56 1631.97,1406.41 1622.84,1405.56 1716.94,1359.99 1735.2,1361.7 1716.94,1359.99 \n",
       "  1811.05,1314.43 1820.18,1315.28 1811.05,1314.43 1905.16,1268.87 1923.42,1270.57 1905.16,1268.87 1980.81,1232.24 \n",
       "  \"/>\n",
       "<polyline clip-path=\"url(#clip5802)\" style=\"stroke:#009af9; stroke-width:4; stroke-opacity:1; fill:none\" points=\"\n",
       "  1784.02,1221.31 1801.63,1188.09 1811.96,1147.01 1812.89,1101.66 1807.09,1052.3 1797,999.701 1779.59,944.517 1752.01,886.884 1725.61,831.2 1685.53,772.222 \n",
       "  1648.6,716.182 1600.29,662.591 1552.91,611.427 1499.37,565.31 1447.14,522.604 1390.56,488.212 1333.55,457.194 1282.89,433.938 1232.73,417.254 1185.66,404.273 \n",
       "  1144.43,393.731 1110.09,385.413 1070.42,379.551 1046.78,373.418 1015.7,370.521 987.329,368.417 960.664,367.704 934.624,368.942 909.689,370.386 883.785,371.877 \n",
       "  862.514,374.682 843.006,378.902 828.815,383.436 820.749,390.828 813.917,399.237 811.181,408.437 815.448,416.944 814.532,428.856 816.401,441.428 811.625,455.943 \n",
       "  809.532,472.898 811.586,491.031 819.224,506.83 824.129,527.268 838.031,546.904 856.628,566.962 875.018,593.694 896.547,623.178 928.734,660.167 958.633,703.3 \n",
       "  991.598,749.202 1030.8,800.365 1068.69,853.934 1108.86,910.115 1151.74,964.673 1198.75,1020.26 1246.84,1071.89 1298.01,1121.34 1343.89,1165.9 1390.32,1205.15 \n",
       "  1437.4,1238.89 1481.32,1268.51 1524.63,1291.25 1562.46,1307.32 1596.44,1315.36 1625.1,1315.77 1649.77,1310.09 1673.99,1298.08 1690.88,1280.24 1704.51,1257.34 \n",
       "  1714.23,1229.26 1718.17,1197.03 1719.81,1161.96 1717.4,1122.27 1719.34,1082.28 1709.61,1038.42 1701.43,993.191 1688.38,946.503 1670.31,900.163 1647.96,855.584 \n",
       "  1623.17,811.705 1588.48,770.091 1553.37,731.665 1513.31,697.092 1479.56,665.731 1446.36,639.566 1411.53,615.485 1382.51,595.621 1353.17,579.194 1325.17,565.744 \n",
       "  1300.09,556.592 1279.88,549.327 1256.57,545.635 1239.49,545.558 1226.41,547.054 1208.86,551.772 1193.33,558.168 1181.65,564.141 1170.63,574.606 1154.97,586.097 \n",
       "  1147.9,601.464 1141.66,619.263 1138.45,641.078 1134.53,663.883 1132.54,689.646 1132.93,719.031 1139.01,750.039 1144.27,786.504 1157.57,826.343 1177.93,866.371 \n",
       "  1198.77,909.041 1223.05,952.793 1251.7,998.772 1278.66,1042.62 1309.22,1084.89 1336.31,1122.91 1369.34,1160.47 1401.57,1193.95 1438.72,1224.26 1474.52,1248.16 \n",
       "  1509.18,1267.8 1549.81,1283.33 1590.53,1292.36 1629.63,1295.18 1667.65,1293.07 1701.1,1285.58 1734.04,1270 1758.25,1249.37 \n",
       "  \"/>\n",
       "<path clip-path=\"url(#clip5800)\" d=\"\n",
       "M1617.98 251.724 L1908.81 251.724 L1908.81 130.764 L1617.98 130.764  Z\n",
       "  \" fill=\"#ffffff\" fill-rule=\"evenodd\" fill-opacity=\"1\"/>\n",
       "<polyline clip-path=\"url(#clip5800)\" style=\"stroke:#000000; stroke-width:4; stroke-opacity:1; fill:none\" points=\"\n",
       "  1617.98,251.724 1908.81,251.724 1908.81,130.764 1617.98,130.764 1617.98,251.724 \n",
       "  \"/>\n",
       "<g clip-path=\"url(#clip5800)\">\n",
       "<text style=\"fill:#000000; fill-opacity:1; font-family:Arial,Helvetica Neue,Helvetica,sans-serif; font-size:48px; text-anchor:start;\" transform=\"rotate(0, 1809.98, 208.744)\" x=\"1809.98\" y=\"208.744\">y1</text>\n",
       "</g>\n",
       "</svg>\n"
      ]
     },
     "metadata": {},
     "output_type": "display_data"
    },
    {
     "name": "stdout",
     "output_type": "stream",
     "text": [
      "16384×128 LinearAlgebra.Adjoint{Float64,Array{Float64,2}}\n"
     ]
    }
   ],
   "source": [
    "k = 3\n",
    "\n",
    "println(summary(X))\n",
    "println(summary(U))\n",
    "M = zeros(3, 128)\n",
    "for i = 1:k\n",
    "    M[i,:] = X * U[:, i];\n",
    "end\n",
    "\n",
    "PlotManifold.plot(M[1, :], M[2, :], M[3, :])"
   ]
  },
  {
   "cell_type": "markdown",
   "metadata": {},
   "source": [
    "# Display the energy recovered as a function of dimensions"
   ]
  },
  {
   "cell_type": "code",
   "execution_count": null,
   "metadata": {
    "scrolled": true
   },
   "outputs": [
    {
     "name": "stdout",
     "output_type": "stream",
     "text": [
      "[323.716, 89.6809, 88.6301, 55.3432, 54.3171, 47.9065, 43.8155, 43.5517, 38.5462, 35.1556, 32.6494, 27.7092, 27.6811, 25.538, 24.9072, 20.4613, 20.3683, 18.7444, 18.6579, 15.6223, 15.5194, 14.1784, 13.9817, 12.4631, 12.4192, 11.327, 11.3181, 10.6323, 10.6107, 10.3563, 10.3177, 9.2684, 9.23559, 8.60561, 8.59567, 8.14587, 8.09622, 7.40309, 7.34064, 6.53126, 6.49318, 6.17358, 6.14946, 5.9985, 5.97339, 5.46658, 5.45456, 5.1513, 5.13075, 5.1189, 5.09424, 4.80065, 4.75769, 4.62102, 4.6079, 4.51717, 4.50274, 4.20756, 4.1839, 4.0231, 4.00894, 3.70861, 3.70057, 3.60934, 3.54995, 3.47102, 3.43679, 3.4292, 3.38069, 3.32718, 3.28683, 3.21581, 3.20263, 3.11399, 3.10817, 3.07154, 3.02396, 2.93871, 2.92555, 2.81253, 2.7997, 2.77221, 2.75482, 2.66854, 2.58286, 2.51878, 2.48521, 2.44409, 2.37073, 2.3038, 2.24363, 2.16861, 2.16252, 2.12431, 2.03723, 2.0049, 1.94605, 1.90604, 1.85913, 1.81375, 1.7978, 1.79001, 1.73117, 1.68945, 1.68385, 1.63742, 1.59221, 1.56594, 1.53291, 1.50609, 1.48292, 1.47096, 1.44722, 1.42721, 1.42066, 1.40834, 1.38149, 1.37465, 1.36485, 1.33867, 1.32958, 1.32302, 1.30559, 1.2837, 1.26444, 1.20169, 1.19489, 1.15891]\n"
     ]
    },
    {
     "name": "stderr",
     "output_type": "stream",
     "text": [
      "┌ Warning: one(ColorTypes.Gray{Float64}) will soon switch to returning 1; you might need to switch to `oneunit`\n",
      "│   caller = eigtype at eigen.jl:185 [inlined]\n",
      "└ @ Core /buildworker/worker/package_linux32/build/usr/share/julia/stdlib/v1.0/LinearAlgebra/src/eigen.jl:185\n"
     ]
    },
    {
     "name": "stdout",
     "output_type": "stream",
     "text": [
      "1514.768877110973\n",
      "104792.05288504243\n"
     ]
    }
   ],
   "source": [
    "println(sigma)\n",
    "PlotER.plotER(X, sigma)"
   ]
  },
  {
   "cell_type": "code",
   "execution_count": null,
   "metadata": {},
   "outputs": [],
   "source": []
  }
 ],
 "metadata": {
  "kernelspec": {
   "display_name": "Julia 1.0.4",
   "language": "julia",
   "name": "julia-1.0"
  },
  "language_info": {
   "file_extension": ".jl",
   "mimetype": "application/julia",
   "name": "julia",
   "version": "1.0.4"
  }
 },
 "nbformat": 4,
 "nbformat_minor": 2
}
